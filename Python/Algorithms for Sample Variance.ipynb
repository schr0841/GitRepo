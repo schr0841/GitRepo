{
 "cells": [
  {
   "cell_type": "markdown",
   "metadata": {
    "nbgrader": {
     "grade": false,
     "grade_id": "cell-81e074d52be53682",
     "locked": true,
     "schema_version": 1,
     "solution": false
    }
   },
   "source": [
    "# Problem 0: Two algorithms to calculate sample variance\n",
    "\n",
    "This problem is related to floating-point arithmetic and the _sample variance_, a commonly used measure in statistics. However, the problem should go quickly -- so, if you find yourself spending a lot of time on it, you may be overthinking it or consider returning to it later.\n",
    "\n",
    "There are two exercises, numbered 0 and 1, which are worth a total of ten (10) points."
   ]
  },
  {
   "cell_type": "markdown",
   "metadata": {},
   "source": [
    "## Setup\n",
    "\n",
    "Python has a built-in function, [`statistics.variance`](https://docs.python.org/3.5/library/statistics.html#statistics.variance), that computes the sample variance. However, for this problem we want you to implement it from scratch in two different ways and compare their accuracy. (The test codes will use Python's function as a baseline for comparison against your implementations.)"
   ]
  },
  {
   "cell_type": "code",
   "execution_count": 1,
   "metadata": {
    "collapsed": true,
    "nbgrader": {
     "grade": false,
     "grade_id": "cell-7b2c2858bd1428fd",
     "locked": true,
     "schema_version": 1,
     "solution": false
    }
   },
   "outputs": [],
   "source": [
    "# Run this cell.\n",
    "from statistics import variance\n",
    "\n",
    "SAVE_VARIANCE = variance # Ignore me"
   ]
  },
  {
   "cell_type": "markdown",
   "metadata": {
    "nbgrader": {
     "grade": false,
     "grade_id": "cell-f055037bbb691b6e",
     "locked": true,
     "schema_version": 1,
     "solution": false
    }
   },
   "source": [
    "## A baseline algorithm to compute the sample variance\n",
    "\n",
    "Suppose we observe $n$ samples from a much larger population. Denote these observations by $x_0, x_1, \\ldots, x_{n-1}$. Then the _sample mean_ (sample average), $\\bar{x}$, is defined to be\n",
    "\n",
    "$$\n",
    "  \\bar{x} \\equiv \\frac{1}{n} \\sum_{i=0}^{n-1} x_i.\n",
    "$$\n",
    "\n",
    "Given both the samples and the sample mean, a standard formula for the (unbiased) _sample variance_, $\\bar{s}^2$, is\n",
    "\n",
    "$$\n",
    "  \\bar{s}^2 \\equiv \\frac{1}{n-1} \\sum_{i=0}^{n-1} (x_i - \\bar{x})^2.\n",
    "$$"
   ]
  },
  {
   "cell_type": "markdown",
   "metadata": {
    "nbgrader": {
     "grade": false,
     "grade_id": "cell-6197f806bb7c87e6",
     "locked": true,
     "schema_version": 1,
     "solution": false
    }
   },
   "source": [
    "**Exercise 0** (5 points). Write a function, `var_method_0(x)`, that implements this formula for the sample variance given a list `x[:]` of observed sample values.\n",
    "\n",
    "> Remember **not** to use Python's built-in `variance()`."
   ]
  },
  {
   "cell_type": "code",
   "execution_count": 4,
   "metadata": {
    "collapsed": true,
    "nbgrader": {
     "grade": false,
     "grade_id": "exercise_0",
     "locked": false,
     "schema_version": 1,
     "solution": true
    }
   },
   "outputs": [],
   "source": [
    "def var_method_0(x):\n",
    "    n = len(x) # Number of samples\n",
    "    \n",
    "    samp_var=0\n",
    "    for i in range(n):\n",
    "        samp_var+=(1.0/(n-1.0))*(x[i]-sum(x)/n)**2\n",
    "    return samp_var\n"
   ]
  },
  {
   "cell_type": "code",
   "execution_count": 5,
   "metadata": {
    "nbgrader": {
     "grade": true,
     "grade_id": "exercise_0_test",
     "locked": true,
     "points": 5,
     "schema_version": 1,
     "solution": false
    },
    "scrolled": true
   },
   "outputs": [
    {
     "name": "stdout",
     "output_type": "stream",
     "text": [
      "\n",
      "Data: n=100000 samples from a Gaussian with mean 10000000.0 and standard deviation 100.0\n",
      "\tPython's variance function computed 9987.801884445418.\n",
      "\tYour var_method_0(X) computed 9987.801884445425.\n",
      "\tThe relative difference is |you - python| / |python| ~= 7.284843750770323e-16.\n",
      "\n",
      "Data: n=100000 samples from a Gaussian with mean 10000000.0 and standard deviation 100.0\n",
      "\tPython's variance function computed 10040.974427226416.\n",
      "\tYour var_method_0(X) computed 10040.97442722651.\n",
      "\tThe relative difference is |you - python| / |python| ~= 9.42014638817401e-15.\n",
      "\n",
      "Data: n=100000 samples from a Gaussian with mean 10000000.0 and standard deviation 100.0\n",
      "\tPython's variance function computed 10051.67550476863.\n",
      "\tYour var_method_0(X) computed 10051.675504768493.\n",
      "\tThe relative difference is |you - python| / |python| ~= 1.3572285058467918e-14.\n",
      "\n",
      "Data: n=100000 samples from a Gaussian with mean 10000000.0 and standard deviation 100.0\n",
      "\tPython's variance function computed 10038.55529507616.\n",
      "\tYour var_method_0(X) computed 10038.555295076176.\n",
      "\tThe relative difference is |you - python| / |python| ~= 1.6308028546640094e-15.\n",
      "\n",
      "Data: n=100000 samples from a Gaussian with mean 10000000.0 and standard deviation 100.0\n",
      "\tPython's variance function computed 10033.60759917451.\n",
      "\tYour var_method_0(X) computed 10033.607599174367.\n",
      "\tThe relative difference is |you - python| / |python| ~= 1.4140594205443089e-14.\n",
      "\n",
      "(Passed!)\n"
     ]
    }
   ],
   "source": [
    "# Test cell: `exercise_0_test`\n",
    "\n",
    "from random import gauss\n",
    "\n",
    "n = 100000\n",
    "mu = 1e7  # True mean\n",
    "sigma = 100.0  # True variance\n",
    "\n",
    "for _ in range(5): # 5 trials\n",
    "    X = [gauss(mu, sigma) for _ in range(n)]\n",
    "    var_py = variance(X)\n",
    "    try:\n",
    "        del variance\n",
    "        var_you_0 = var_method_0(X)\n",
    "    except NameError as n:\n",
    "        if n.args[0] == \"name 'variance' is not defined\":\n",
    "            assert False, \"Did you try to use `variance()` instead of implementing it from scratch?\"\n",
    "        else:\n",
    "            raise n\n",
    "    finally:\n",
    "        variance = SAVE_VARIANCE\n",
    "        \n",
    "    rel_diff = abs(var_you_0 - var_py) / var_py\n",
    "    print(\"\\nData: n={} samples from a Gaussian with mean {} and standard deviation {}\".format(n, mu, sigma))\n",
    "    print(\"\\tPython's variance function computed {}.\".format(var_py))\n",
    "    print(\"\\tYour var_method_0(X) computed {}.\".format(var_you_0))\n",
    "    print(\"\\tThe relative difference is |you - python| / |python| ~= {}.\".format(rel_diff))\n",
    "    assert rel_diff <= n*(2.0**(-52)), \"Relative difference is larger than expected...\"\n",
    "    \n",
    "print(\"\\n(Passed!)\")"
   ]
  },
  {
   "cell_type": "markdown",
   "metadata": {
    "nbgrader": {
     "grade": false,
     "grade_id": "cell-53f9ae38bae03f58",
     "locked": true,
     "schema_version": 1,
     "solution": false
    }
   },
   "source": [
    "## A one-pass algorithm\n",
    "\n",
    "If there are a huge number of samples, the preceding formula can be slow. The reason is that it makes *two* passes (or loops) over the data: once to sum the samples and another to sum the squares of the samples.\n",
    "\n",
    "So if there are a huge number of samples and these were stored on disk, for instance, you would have to read each sample from disk twice. (For reference, the cost of accessing data on disk can be orders of magnitude slower than reading it from memory.)"
   ]
  },
  {
   "cell_type": "markdown",
   "metadata": {
    "nbgrader": {
     "grade": false,
     "grade_id": "cell-85bab8691b25150e",
     "locked": true,
     "schema_version": 1,
     "solution": false
    }
   },
   "source": [
    "However, there is an alternative that would touch each observation only once. It is based on this formula:\n",
    "\n",
    "$$\\begin{eqnarray*}\n",
    "  \\bar{s}^2\n",
    "  & = & \\dfrac{\\left( \\sum_{i=0}^{n-1} x_i^2 \\right) - \\dfrac{1}{n}\\left( \\sum_{i=0}^{n-1} x_i \\right)^2}{n-1}.\n",
    "\\end{eqnarray*}$$\n",
    "\n",
    "In exact arithmetic, it is the same as the previous formula. And it can be implemented using only **one pass** of the data, using an algorithm of the following form:\n",
    "\n",
    "```\n",
    "  temp_sum = 0\n",
    "  temp_sum_squares = 0\n",
    "  for each observation x_i: # Read x_i once, but use twice!\n",
    "     temp_sum += x_i\n",
    "     temp_sum_squares += (x_i * x_i)\n",
    "  (calculate final variance)\n",
    "```\n",
    "\n",
    "But there is a catch, related to the numerical stability of this scheme."
   ]
  },
  {
   "cell_type": "markdown",
   "metadata": {
    "nbgrader": {
     "grade": false,
     "grade_id": "cell-67c22edda475b532",
     "locked": true,
     "schema_version": 1,
     "solution": false
    }
   },
   "source": [
    "**Exercise 1** (5 points). Implement a function, `var_method_1(x)`, for the one-pass scheme shown above.\n",
    "\n",
    "The test cell below will run several experiments comparing its accuracy to the accuracy of the first method. You should observe that the one-pass method can be highly inaccurate!"
   ]
  },
  {
   "cell_type": "code",
   "execution_count": 8,
   "metadata": {
    "nbgrader": {
     "grade": false,
     "grade_id": "exercise_1",
     "locked": false,
     "schema_version": 1,
     "solution": true
    }
   },
   "outputs": [],
   "source": [
    "def var_method_1(x):\n",
    "    n = len(x)\n",
    "    temp_sum = 0\n",
    "    temp_sum_squares = 0\n",
    "    for i in range(n): # Read x_i once, but use twice!\n",
    "        temp_sum += x[i]\n",
    "        temp_sum_squares += (x[i] * x[i])\n",
    "    return (temp_sum_squares-(1/n)*temp_sum**2)/(n-1)\n",
    "        \n"
   ]
  },
  {
   "cell_type": "code",
   "execution_count": 9,
   "metadata": {
    "nbgrader": {
     "grade": true,
     "grade_id": "exercise_1_test",
     "locked": true,
     "points": 5,
     "schema_version": 1,
     "solution": false
    },
    "scrolled": false
   },
   "outputs": [
    {
     "name": "stdout",
     "output_type": "stream",
     "text": [
      "\n",
      "Data: n=100000 samples from a Gaussian with mean 10000000.0 and standard deviation 1.0\n",
      "\tPython's variance function computed 0.9954607832212703.\n",
      "\tvar_method_0(X) computed 0.99546078322128, with a relative difference of 9.702984263210176e-15.\n",
      "\tvar_method_1(X) computed 1.6588965889658898, with a relative difference of 0.6664610167743308.\n",
      "\n",
      "Data: n=100000 samples from a Gaussian with mean 10000000.0 and standard deviation 1.0\n",
      "\tPython's variance function computed 1.0010497292017897.\n",
      "\tvar_method_0(X) computed 1.001049729201814, with a relative difference of 2.41774821278131e-14.\n",
      "\tvar_method_1(X) computed 3.5021150211502117, with a relative difference of 2.49844260378823.\n",
      "\n",
      "Data: n=100000 samples from a Gaussian with mean 10000000.0 and standard deviation 1.0\n",
      "\tPython's variance function computed 0.9974897003340456.\n",
      "\tvar_method_0(X) computed 0.9974897003340704, with a relative difference of 2.4820279789204728e-14.\n",
      "\tvar_method_1(X) computed 2.027540275402754, with a relative difference of 1.0326428179897582.\n",
      "\n",
      "Data: n=100000 samples from a Gaussian with mean 10000000.0 and standard deviation 1.0\n",
      "\tPython's variance function computed 1.0064231181040952.\n",
      "\tvar_method_0(X) computed 1.0064231181041254, with a relative difference of 3.0005338437268335e-14.\n",
      "\tvar_method_1(X) computed -2.5600256002560027, with a relative difference of 3.5436871969699895.\n",
      "\n",
      "Data: n=100000 samples from a Gaussian with mean 10000000.0 and standard deviation 1.0\n",
      "\tPython's variance function computed 1.007333015484219.\n",
      "\tvar_method_0(X) computed 1.0073330154842206, with a relative difference of 1.5429974105713892e-15.\n",
      "\tvar_method_1(X) computed 2.3347433474334744, with a relative difference of 1.317747270808132.\n",
      "\n",
      "(Passed!)\n"
     ]
    }
   ],
   "source": [
    "# Test cell: `exercise_1_test`\n",
    "\n",
    "from random import gauss\n",
    "from statistics import variance\n",
    "\n",
    "n = 100000\n",
    "mu = 1e7\n",
    "sigma = 1.0\n",
    "\n",
    "for _ in range(5): # 5 trials\n",
    "    X = [gauss(mu, sigma) for _ in range(n)]\n",
    "    var_py = variance(X)\n",
    "    try:\n",
    "        del variance\n",
    "        var_you_0 = var_method_0(X)\n",
    "        var_you_1 = var_method_1(X)\n",
    "    except NameError as n:\n",
    "        if n.args[0] == \"name 'variance' is not defined\":\n",
    "            assert False, \"Did you try to use `variance()` instead of implementing it from scratch?\"\n",
    "        else:\n",
    "            raise n\n",
    "    finally:\n",
    "        variance = SAVE_VARIANCE\n",
    "        \n",
    "    rel_diff_0 = abs(var_you_0 - var_py) / var_py\n",
    "    rel_diff_1 = abs(var_you_1 - var_py) / var_py\n",
    "    print(\"\\nData: n={} samples from a Gaussian with mean {} and standard deviation {}\".format(n, mu, sigma))\n",
    "    print(\"\\tPython's variance function computed {}.\".format(var_py))\n",
    "    print(\"\\tvar_method_0(X) computed {}, with a relative difference of {}.\".format(var_you_0, rel_diff_0))\n",
    "    assert rel_diff_0 <= n*(2.0**(-52)), \"The relative difference is larger than expected.\"\n",
    "    print(\"\\tvar_method_1(X) computed {}, with a relative difference of {}.\".format(var_you_1, rel_diff_1))\n",
    "    assert rel_diff_1 > n*(2.0**(-52)), \"The relative difference is smaller than expected!\"\n",
    "    \n",
    "print(\"\\n(Passed!)\")"
   ]
  },
  {
   "cell_type": "markdown",
   "metadata": {
    "nbgrader": {
     "grade": false,
     "grade_id": "cell-92bae51c2bc739ef",
     "locked": true,
     "schema_version": 1,
     "solution": false
    }
   },
   "source": [
    "**Fin!** If you've reached this point and all tests above pass, you are ready to submit your solution to this problem. Don't forget to save you work prior to submitting."
   ]
  },
  {
   "cell_type": "code",
   "execution_count": 10,
   "metadata": {
    "nbgrader": {
     "grade": true,
     "grade_id": "ran_to_completion",
     "locked": true,
     "points": 0,
     "schema_version": 1,
     "solution": false
    }
   },
   "outputs": [
    {
     "name": "stdout",
     "output_type": "stream",
     "text": [
      "\n",
      "(This notebook ran to completion.)\n"
     ]
    }
   ],
   "source": [
    "print(\"\\n(This notebook ran to completion.)\")"
   ]
  },
  {
   "cell_type": "code",
   "execution_count": null,
   "metadata": {
    "collapsed": true
   },
   "outputs": [],
   "source": []
  }
 ],
 "metadata": {
  "celltoolbar": "Create Assignment",
  "kernelspec": {
   "display_name": "Python 3",
   "language": "python",
   "name": "python3"
  },
  "language_info": {
   "codemirror_mode": {
    "name": "ipython",
    "version": 3
   },
   "file_extension": ".py",
   "mimetype": "text/x-python",
   "name": "python",
   "nbconvert_exporter": "python",
   "pygments_lexer": "ipython3",
   "version": "3.6.5"
  }
 },
 "nbformat": 4,
 "nbformat_minor": 1
}
